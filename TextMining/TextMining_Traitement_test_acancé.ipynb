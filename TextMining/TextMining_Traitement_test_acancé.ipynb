{
  "nbformat": 4,
  "nbformat_minor": 0,
  "metadata": {
    "colab": {
      "provenance": []
    },
    "kernelspec": {
      "name": "python3",
      "display_name": "Python 3"
    },
    "language_info": {
      "name": "python"
    }
  },
  "cells": [
    {
      "cell_type": "markdown",
      "source": [
        "Ces exercices vous permettront de mettre en pratique les étapes de prétraitement de texte, telles que la tokenization, la suppression des mots vides et la lemmatisation, ainsi que l'utilisation de la TF-IDF pour l'analyse de texte. Vous serez en mesure de transformer un texte brut en une représentation numérique plus significative et d'effectuer des calculs sur les poids TF-IDF des mots. Les exercices vous aideront à comprendre comment ces techniques peuvent être appliquées pour l'analyse de texte, l'extraction de caractéristiques et la recherche d'informations pertinentes dans un document."
      ],
      "metadata": {
        "id": "GpgKQvkFQFNf"
      }
    },
    {
      "cell_type": "code",
      "source": [
        "# Installation et téléchargement de spaCy\n",
        "!pip install -U spacy\n",
        "!python -m spacy download fr_core_news_sm"
      ],
      "metadata": {
        "id": "YIvj7emT8C5s"
      },
      "execution_count": null,
      "outputs": []
    },
    {
      "cell_type": "markdown",
      "source": [
        "#Prétraitement de texte avec tokenization, suppression des mots vides et lemmatisation"
      ],
      "metadata": {
        "id": "g356lju1Mc18"
      }
    },
    {
      "cell_type": "code",
      "execution_count": null,
      "metadata": {
        "colab": {
          "base_uri": "https://localhost:8080/"
        },
        "id": "VMMG6Vsn3P2g",
        "outputId": "baf54be0-03e3-474f-c6fd-9d7d14a295b1"
      },
      "outputs": [
        {
          "output_type": "stream",
          "name": "stderr",
          "text": [
            "[nltk_data] Downloading package punkt to /root/nltk_data...\n",
            "[nltk_data]   Package punkt is already up-to-date!\n",
            "[nltk_data] Downloading package stopwords to /root/nltk_data...\n",
            "[nltk_data]   Package stopwords is already up-to-date!\n"
          ]
        },
        {
          "output_type": "stream",
          "name": "stdout",
          "text": [
            "\n",
            "Tokens totaux: 58\n"
          ]
        }
      ],
      "source": [
        "import nltk\n",
        "import os\n",
        "\n",
        "# Télécharger les ressources nécessaires\n",
        "nltk.download('punkt')\n",
        "nltk.download('stopwords')\n",
        "\n",
        "# Ouvrir le fichier en lecture\n",
        "base_file = open(os.getcwd() + \"/Essentiel-Apache-Spark.txt\", 'rt')\n",
        "\n",
        "# Lire le contenu du fichier\n",
        "raw_text = base_file.read()\n",
        "\n",
        "# Fermer le fichier\n",
        "base_file.close()\n",
        "\n",
        "# Tokenization\n",
        "token_list = nltk.word_tokenize(raw_text)\n",
        "\n",
        "# Utiliser la bibliothèque 'punkt' pour extraire les jetons sans ponctuation\n",
        "token_list2 = list(filter(lambda token: nltk.tokenize.punkt.PunktToken(token).is_non_punct, token_list))\n",
        "\n",
        "\n",
        "# Conversion en minuscules\n",
        "token_list3 = [word.lower() for word in token_list2]\n",
        "\n",
        "# Obtenir la liste des mots vides pour le français\n",
        "from nltk.corpus import stopwords\n",
        "stopwords_list = stopwords.words('french')\n",
        "\n",
        "# Supprimer les mots vides de la liste de tokens\n",
        "token_list4 = [token for token in token_list3 if token not in stopwords_list]\n",
        "\n",
        "import spacy\n",
        "\n",
        "# Charger le modèle linguistique français\n",
        "nlp = spacy.load('fr_core_news_sm')\n",
        "\n",
        "# Lemmatisation des tokens\n",
        "doc = nlp(\" \".join(token_list4))\n",
        "token_list5 = [token.lemma_ for token in doc]\n",
        "\n",
        "# Afficher le nombre total de tokens après le traitement\n",
        "print(\"\\nTokens totaux:\", len(token_list5))\n",
        "\n"
      ]
    },
    {
      "cell_type": "markdown",
      "source": [
        "#Générer les n-grammes (bigrammes et trigrammes"
      ],
      "metadata": {
        "id": "lo38KAcCMwWC"
      }
    },
    {
      "cell_type": "code",
      "source": [
        "from nltk.util import ngrams\n",
        "from collections import Counter\n",
        "\n",
        "# Générer les bigrammes à partir de la liste de tokens lemmatisés\n",
        "bigrams = ngrams(token_list5, 2)\n",
        "\n",
        "print(\"Bigrammes les plus courants : \")\n",
        "# Utiliser Counter pour compter le nombre d'occurrences de chaque bigramme\n",
        "# et afficher les 5 bigrammes les plus courants\n",
        "print(Counter(bigrams).most_common(5))\n",
        "\n",
        "# Générer les trigrammes à partir de la liste de tokens lemmatisés\n",
        "trigrams = ngrams(token_list5, 3)\n",
        "\n",
        "print(\"\\nTrigrammes les plus courants : \")\n",
        "# Utiliser Counter pour compter le nombre d'occurrences de chaque trigramme\n",
        "# et afficher les 5 trigrammes les plus courants\n",
        "print(Counter(trigrams).most_common(5))\n"
      ],
      "metadata": {
        "colab": {
          "base_uri": "https://localhost:8080/"
        },
        "id": "M4N3CWim8AA5",
        "outputId": "e7901670-0fb5-484a-9cc5-03af26d29148"
      },
      "execution_count": null,
      "outputs": [
        {
          "output_type": "stream",
          "name": "stdout",
          "text": [
            "Bigrammes les plus courants : \n",
            "[(('apache', 'spark'), 2), (('si', 'intéresser'), 1), (('intéresser', 'big'), 1), (('big', 'dater'), 1), (('dater', 'connaître'), 1)]\n",
            "\n",
            "Trigrammes les plus courants : \n",
            "[(('si', 'intéresser', 'big'), 1), (('intéresser', 'big', 'dater'), 1), (('big', 'dater', 'connaître'), 1), (('dater', 'connaître', 'certainement'), 1), (('connaître', 'certainement', 'apache'), 1)]\n"
          ]
        }
      ]
    },
    {
      "cell_type": "markdown",
      "source": [
        "#Étiquetage grammatical des tokens lemmatisés"
      ],
      "metadata": {
        "id": "9MYGdZDrM9xi"
      }
    },
    {
      "cell_type": "code",
      "source": [
        "# Télécharger les ressources nécessaires pour l'étiquetage grammatical\n",
        "nltk.download('averaged_perceptron_tagger')\n",
        "\n",
        "# Obtenir les étiquettes grammaticales des tokens lemmatisés\n",
        "nltk.pos_tag(token_list5)[:10]\n"
      ],
      "metadata": {
        "colab": {
          "base_uri": "https://localhost:8080/"
        },
        "id": "jfqZ1rKY8B4n",
        "outputId": "2e126481-caa2-4d0a-a14f-6555f405c604"
      },
      "execution_count": null,
      "outputs": [
        {
          "output_type": "stream",
          "name": "stderr",
          "text": [
            "[nltk_data] Downloading package averaged_perceptron_tagger to\n",
            "[nltk_data]     /root/nltk_data...\n",
            "[nltk_data]   Package averaged_perceptron_tagger is already up-to-\n",
            "[nltk_data]       date!\n"
          ]
        },
        {
          "output_type": "execute_result",
          "data": {
            "text/plain": [
              "[('si', 'NN'),\n",
              " ('intéresser', 'NN'),\n",
              " ('big', 'JJ'),\n",
              " ('dater', 'NN'),\n",
              " ('connaître', 'NN'),\n",
              " ('certainement', 'NN'),\n",
              " ('apache', 'NN'),\n",
              " ('spark', 'NN'),\n",
              " ('savoir', 'VBP'),\n",
              " ('vous', 'JJ')]"
            ]
          },
          "metadata": {},
          "execution_count": 58
        }
      ]
    },
    {
      "cell_type": "markdown",
      "source": [
        "#Étiquetage grammatical des tokens avec spaCy"
      ],
      "metadata": {
        "id": "CMLfteswNHrq"
      }
    },
    {
      "cell_type": "code",
      "source": [
        "#tager le texte en utilisant spacy\n",
        "doc = nlp(\" \".join(token_list5))\n",
        "pos_tags = [(d.text,d.pos_) for d in doc]\n",
        "# Afficher les premièrs mots\n",
        "print(pos_tags[:10])"
      ],
      "metadata": {
        "colab": {
          "base_uri": "https://localhost:8080/"
        },
        "id": "zi6n58PHA7-_",
        "outputId": "0550c941-9b22-4325-f35e-85cf8fb6bda9"
      },
      "execution_count": null,
      "outputs": [
        {
          "output_type": "stream",
          "name": "stdout",
          "text": [
            "[('si', 'SCONJ'), ('intéresser', 'VERB'), ('big', 'PRON'), ('dater', 'VERB'), ('connaître', 'VERB'), ('certainement', 'ADV'), ('apache', 'NOUN'), ('spark', 'ADJ'), ('savoir', 'VERB'), ('vous', 'PRON')]\n"
          ]
        }
      ]
    },
    {
      "cell_type": "code",
      "source": [
        "# Installer ou mettre à jour les bibliothèques scikit-learn et nltk\n",
        "!pip install -U scikit-learn nltk"
      ],
      "metadata": {
        "id": "Bkc_t_nCIl0M"
      },
      "execution_count": null,
      "outputs": []
    },
    {
      "cell_type": "markdown",
      "source": [
        "# Afficher la matrice TF-IDF\n",
        "Ce code utilise la classe TfidfVectorizer de scikit-learn pour créer une matrice TF-IDF à partir des tokens lemmatisés. La liste sentences contient une seule phrase qui est une concaténation de tous les tokens lemmatisés. Ensuite, le vectoriseur TfidfVectorizer est utilisé pour calculer la matrice TF-IDF à partir de cette liste de phrases. Les noms des fonctionnalités (tokens) sont obtenus à l'aide de la méthode get_feature_names_out(). Enfin, une DataFrame est créée à partir de la matrice TF-IDF pour afficher les résultats."
      ],
      "metadata": {
        "id": "FCSBAwIBL55_"
      }
    },
    {
      "cell_type": "code",
      "source": [
        "\n",
        "from sklearn.feature_extraction.text import TfidfVectorizer\n",
        "import pandas as pd\n",
        "\n",
        "# Créer une liste de phrases avec les tokens lemmatisés\n",
        "sentences = [' '.join(token_list5)]\n",
        "\n",
        "# Créer un vectoriseur pour les tokens lemmatisés avec TF-IDF\n",
        "vectorizer = TfidfVectorizer()\n",
        "tfidf = vectorizer.fit_transform(sentences)\n",
        "\n",
        "# Obtenir les noms des fonctionnalités (tokens)\n",
        "feature_names = vectorizer.get_feature_names_out()\n",
        "\n",
        "# Créer une DataFrame pour la matrice TF-IDF des tokens lemmatisés\n",
        "df = pd.DataFrame(tfidf.toarray(), columns=feature_names)\n",
        "\n",
        "# Afficher la matrice TF-IDF des tokens lemmatisés\n",
        "print(\"\\nMatrice TF-IDF des tokens lemmatisés :\")\n",
        "print(df)\n"
      ],
      "metadata": {
        "colab": {
          "base_uri": "https://localhost:8080/"
        },
        "id": "68rBvq0iG0Su",
        "outputId": "973f58a4-7734-4714-b32d-4a7666dcc5ee"
      },
      "execution_count": null,
      "outputs": [
        {
          "output_type": "stream",
          "name": "stdout",
          "text": [
            "\n",
            "Matrice TF-IDF des tokens lemmatisés :\n",
            "   algorithme  analyser    apache  apprécier  associer    autant       big  \\\n",
            "0    0.114708  0.114708  0.344124   0.114708  0.114708  0.114708  0.114708   \n",
            "\n",
            "   certainement       clé  connaître  ...        si     spark  technique  \\\n",
            "0      0.114708  0.114708   0.114708  ...  0.114708  0.344124   0.114708   \n",
            "\n",
            "   technologier      tout  traitement   travers      vous   échelle      être  \n",
            "0      0.114708  0.229416    0.114708  0.114708  0.114708  0.114708  0.114708  \n",
            "\n",
            "[1 rows x 51 columns]\n"
          ]
        }
      ]
    },
    {
      "cell_type": "markdown",
      "source": [
        "#Exemple 2"
      ],
      "metadata": {
        "id": "Y5UY1ic-PZX_"
      }
    },
    {
      "cell_type": "code",
      "source": [
        "# Import the necessary libraries\n",
        "from sklearn.feature_extraction.text import TfidfVectorizer\n",
        "import nltk\n",
        "import pandas as pd\n",
        "\n",
        "# Download the required resources\n",
        "nltk.download('stopwords')\n",
        "\n",
        "# Define the corpus for visualization\n",
        "vector_corpus = [\n",
        "    'Fouille du texte en R et Python : 8 conseils pour démarrer',\n",
        "    'Fouille du texte avec R : collecte et nettoyage de données',\n",
        "    \"L'analyse des sentiments dans R simplifiée\"\n",
        "]\n",
        "\n",
        "# Create a vectorizer for the French language\n",
        "vectorizer = TfidfVectorizer(stop_words=nltk.corpus.stopwords.words('french'))\n",
        "tfidf = vectorizer.fit_transform(vector_corpus)\n",
        "\n",
        "# Obtain the feature names (words) from the vectorizer\n",
        "feature_names = vectorizer.get_feature_names_out()\n",
        "\n",
        "# Create a DataFrame with the TF-IDF matrix\n",
        "df1 = pd.DataFrame(tfidf.toarray(), columns=feature_names)\n",
        "print(\"\\nMatrice TF-IDF :\")\n",
        "print(df)\n"
      ],
      "metadata": {
        "colab": {
          "base_uri": "https://localhost:8080/"
        },
        "id": "Lvk9Tw7sA7y0",
        "outputId": "14c652eb-dda6-45cb-cd1f-740668c173ef"
      },
      "execution_count": null,
      "outputs": [
        {
          "output_type": "stream",
          "name": "stdout",
          "text": [
            "\n",
            "Matrice TF-IDF :\n",
            "   algorithme  analyser    apache  apprécier  associer    autant       big  \\\n",
            "0    0.114708  0.114708  0.344124   0.114708  0.114708  0.114708  0.114708   \n",
            "\n",
            "   certainement       clé  connaître  ...        si     spark  technique  \\\n",
            "0      0.114708  0.114708   0.114708  ...  0.114708  0.344124   0.114708   \n",
            "\n",
            "   technologier      tout  traitement   travers      vous   échelle      être  \n",
            "0      0.114708  0.229416    0.114708  0.114708  0.114708  0.114708  0.114708  \n",
            "\n",
            "[1 rows x 51 columns]\n"
          ]
        },
        {
          "output_type": "stream",
          "name": "stderr",
          "text": [
            "[nltk_data] Downloading package stopwords to /root/nltk_data...\n",
            "[nltk_data]   Package stopwords is already up-to-date!\n"
          ]
        }
      ]
    },
    {
      "cell_type": "markdown",
      "source": [
        "#Analyse de la fréquence des mots et mot le plus fréquent"
      ],
      "metadata": {
        "id": "q6G2Ki3xUxjP"
      }
    },
    {
      "cell_type": "code",
      "source": [
        "# Calculer la fréquence totale des mots\n",
        "word_freq = df1.sum()\n",
        "\n",
        "# Trouver le mot le plus fréquent\n",
        "most_frequent_word = word_freq.idxmax()\n",
        "\n",
        "# Afficher la fréquence totale des mots et le mot le plus fréquent\n",
        "print(\"\\nFréquence totale des mots :\")\n",
        "print(word_freq)\n",
        "print(\"\\nMot le plus fréquent :\")\n",
        "print(most_frequent_word)\n"
      ],
      "metadata": {
        "colab": {
          "base_uri": "https://localhost:8080/"
        },
        "id": "f4w4CeDwRda2",
        "outputId": "aa697ca9-b8b4-495d-ac22-5be6e37235ac"
      },
      "execution_count": null,
      "outputs": [
        {
          "output_type": "stream",
          "name": "stdout",
          "text": [
            "\n",
            "Fréquence totale des mots :\n",
            "analyse       0.577350\n",
            "collecte      0.490479\n",
            "conseils      0.490479\n",
            "données       0.490479\n",
            "démarrer      0.490479\n",
            "fouille       0.746044\n",
            "nettoyage     0.490479\n",
            "python        0.490479\n",
            "sentiments    0.577350\n",
            "simplifiée    0.577350\n",
            "texte         0.746044\n",
            "dtype: float64\n",
            "\n",
            "Mot le plus fréquent :\n",
            "fouille\n"
          ]
        }
      ]
    },
    {
      "cell_type": "markdown",
      "source": [
        "#Visualisation de la fréquence des mots"
      ],
      "metadata": {
        "id": "ENn2mI9LU7xw"
      }
    },
    {
      "cell_type": "code",
      "source": [
        "# Tri des fréquences de mots par ordre décroissant\n",
        "sorted_word_freq = word_freq.sort_values(ascending=False)\n",
        "\n",
        "# Tracé des fréquences des mots à l'aide d'un diagramme en ligne\n",
        "plt.figure(figsize=(10, 6))\n",
        "plt.plot(sorted_word_freq.index, sorted_word_freq.values, marker='o', linestyle='-', linewidth=2)\n",
        "plt.xlabel('Mots')\n",
        "plt.ylabel('Fréquence')\n",
        "plt.title('Fréquence des mots')\n",
        "plt.xticks(rotation=90)\n",
        "plt.tight_layout()\n",
        "plt.show()\n"
      ],
      "metadata": {
        "colab": {
          "base_uri": "https://localhost:8080/",
          "height": 607
        },
        "id": "WoGSvD55SlSU",
        "outputId": "e5ce42fe-f7f2-4495-88ca-02991b0e4898"
      },
      "execution_count": null,
      "outputs": [
        {
          "output_type": "display_data",
          "data": {
            "text/plain": [
              "<Figure size 1000x600 with 1 Axes>"
            ],
            "image/png": "[encoded data removed]"
          },
          "metadata": {}
        }
      ]
    }
  ]
}