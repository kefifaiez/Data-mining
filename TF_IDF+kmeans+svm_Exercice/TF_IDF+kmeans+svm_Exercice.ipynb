{
  "nbformat": 4,
  "nbformat_minor": 0,
  "metadata": {
    "colab": {
      "provenance": []
    },
    "kernelspec": {
      "name": "python3",
      "display_name": "Python 3"
    },
    "language_info": {
      "name": "python"
    }
  },
  "cells": [
    {
      "cell_type": "markdown",
      "source": [
        "Ce code applique le nettoyage des e-mails en utilisant les étapes de suppression des stopwords, stemming, lemmatisation et n-grammes. Ensuite, il effectue la classification avec K-means et prédit la classe d'un nouveau message. Le résultat de la prédiction du nouveau message est affiché à la fin avec les deux méthode K-means et svm."
      ],
      "metadata": {
        "id": "cdH6dfWN57LB"
      }
    },
    {
      "cell_type": "markdown",
      "source": [
        "Importation des bibliothèques nécessaires :"
      ],
      "metadata": {
        "id": "alxqWyNC7dcg"
      }
    },
    {
      "cell_type": "code",
      "source": [
        "import nltk\n",
        "from nltk.corpus import stopwords\n",
        "from nltk.tokenize import word_tokenize\n",
        "from nltk.stem import SnowballStemmer, WordNetLemmatizer\n",
        "from sklearn.feature_extraction.text import TfidfVectorizer\n",
        "from sklearn.cluster import KMeans\n",
        "from sklearn.svm import SVC\n"
      ],
      "metadata": {
        "id": "4rEhEE3B7dLq"
      },
      "execution_count": 46,
      "outputs": []
    },
    {
      "cell_type": "markdown",
      "source": [
        "Téléchargement des ressources linguistiques requises :"
      ],
      "metadata": {
        "id": "3ESUmy-37dBM"
      }
    },
    {
      "cell_type": "code",
      "source": [
        "nltk.download('stopwords')\n",
        "nltk.download('punkt')\n",
        "nltk.download('wordnet')\n"
      ],
      "metadata": {
        "colab": {
          "base_uri": "https://localhost:8080/"
        },
        "id": "khz4r6ct7c56",
        "outputId": "3b848ae1-18eb-4340-bec7-9f0c1da03cf0"
      },
      "execution_count": 47,
      "outputs": [
        {
          "output_type": "stream",
          "name": "stderr",
          "text": [
            "[nltk_data] Downloading package stopwords to /root/nltk_data...\n",
            "[nltk_data]   Package stopwords is already up-to-date!\n",
            "[nltk_data] Downloading package punkt to /root/nltk_data...\n",
            "[nltk_data]   Package punkt is already up-to-date!\n",
            "[nltk_data] Downloading package wordnet to /root/nltk_data...\n",
            "[nltk_data]   Package wordnet is already up-to-date!\n"
          ]
        },
        {
          "output_type": "execute_result",
          "data": {
            "text/plain": [
              "True"
            ]
          },
          "metadata": {},
          "execution_count": 47
        }
      ]
    },
    {
      "cell_type": "markdown",
      "source": [
        "Définition de la liste des e-mails :"
      ],
      "metadata": {
        "id": "gV19HkUw7cy4"
      }
    },
    {
      "cell_type": "code",
      "source": [
        "emails = [\n",
        "    \"Bonjour, j'ai reçu votre e-mail concernant l'offre spéciale.\",\n",
        "    \"Gagnez de l'argent en ligne rapidement !\",\n",
        "    \"Vérifiez votre compte bancaire dès maintenant.\",\n",
        "    \"Réclamez votre prix en répondant à ce message.\",\n",
        "    \"Obtenez un crédit sans vérification de solvabilité.\",\n",
        "    \"Gagnez de l'argent en ligne rapidement !\",\n",
        "    \"Ce texte est un exemple d'e-mail non-spam.\",\n",
        "    \"Cliquez ici pour gagner un voyage gratuit !\",\n",
        "    \"Votre facture est disponible en ligne.\",\n",
        "    \"Doublez votre argent en une semaine !\",\n",
        "    \"Important : Votre compte a été compromis.\",\n",
        "    \"Gagnez un iPhone en participant à notre sondage.\",\n",
        "    \"Votre abonnement mensuel est arrivé à expiration.\",\n",
        "    \"Ne manquez pas cette offre exclusive !\",\n",
        "    \"Vous avez été sélectionné pour notre tirage au sort.\",\n",
        "    \"Promotion spéciale : -50% sur tous les produits !\",\n",
        "    \"Augmentez votre productivité avec notre logiciel innovant.\",\n",
        "    \"Offre limitée : inscrivez-vous dès maintenant !\",\n",
        "    \"Découvrez nos nouvelles fonctionnalités.\",\n",
        "    \"Réservez votre billet d'avion à prix réduit.\",\n",
        "    \"Félicitations, vous avez gagné un voyage de rêve !\",\n",
        "    \"Attention : votre compte a été suspendu.\",\n",
        "    \"Économisez de l'argent avec nos offres exclusives.\",\n",
        "    \"Confirmation de votre réservation d'hôtel.\",\n",
        "    \"Votre commande a été expédiée.\",\n",
        "    \"Rejoignez notre programme de fidélité et obtenez des récompenses.\",\n",
        "    \"Nouvelles offres d'emploi disponibles.\",\n",
        "    \"Offre spéciale pour nos clients fidèles.\",\n",
        "    \"Obtenez un crédit immobilier avec des taux avantageux.\",\n",
        "    \"Recevez votre colis demain matin.\",\n",
        "    \"Votre compte a été crédité de 100€.\",\n",
        "    \"Dernière chance de profiter de nos soldes.\",\n",
        "    \"Réduction exceptionnelle sur nos produits haut de gamme.\",\n",
        "    \"Invitation à notre événement exclusif.\",\n",
        "    \"Besoin d'assistance ? Contactez notre service clientèle.\",\n",
        "    \"Inscrivez-vous à notre newsletter pour recevoir nos dernières actualités.\",\n",
        "    \"Confirmation de votre inscription à notre service.\",\n",
        "    \"Répondez à notre enquête et gagnez un bon d'achat.\",\n",
        "    \"Nouvelles recommandations personnalisées pour vous.\",\n",
        "    \"Offre flash : seulement aujourd'hui !\",\n",
        "    \"Votre compte a été mis à jour.\",\n",
        "    \"Obtenez un devis gratuit en ligne.\",\n",
        "    \"Gagnez des points de récompense à chaque achat.\",\n",
        "    \"Votre paiement a été accepté.\",\n",
        "    \"Nouveau produit disponible : découvrez-le dès maintenant.\",\n",
        "    \"Économisez sur votre prochaine commande avec ce code promotionnel.\",\n",
        "    \"Confirmation de votre réservation de restaurant.\"\n",
        "]\n",
        "\n"
      ],
      "metadata": {
        "id": "y2CfJoWb7cr8"
      },
      "execution_count": 48,
      "outputs": []
    },
    {
      "cell_type": "markdown",
      "source": [
        "Définition de la fonction de nettoyage des e-mails :"
      ],
      "metadata": {
        "id": "18N04Cev7ckZ"
      }
    },
    {
      "cell_type": "code",
      "source": [
        "def clean(email):\n",
        "    stop_words = set(stopwords.words('french'))\n",
        "    stemmer = SnowballStemmer('french')\n",
        "    lemmatizer = WordNetLemmatizer()\n",
        "\n",
        "    # Tokenisation des mots\n",
        "    words = word_tokenize(email.lower())\n",
        "\n",
        "    # Suppression des stopwords et de la ponctuation\n",
        "    filtered_words = [word for word in words if word.isalnum() and word not in stop_words]\n",
        "\n",
        "    # Stemming\n",
        "    stemmed_words = [stemmer.stem(word) for word in filtered_words]\n",
        "\n",
        "    # Lemmatisation\n",
        "    lemmatized_words = [lemmatizer.lemmatize(word) for word in stemmed_words]\n",
        "\n",
        "    # Reconstruction de l'e-mail nettoyé\n",
        "    cleaned_email = ' '.join(lemmatized_words)\n",
        "    return cleaned_email\n"
      ],
      "metadata": {
        "id": "_-Xb7w7F7cdP"
      },
      "execution_count": 49,
      "outputs": []
    },
    {
      "cell_type": "markdown",
      "source": [
        "Nettoyage des e-mails en utilisant la fonction clean() :"
      ],
      "metadata": {
        "id": "NRqIfHOP7cVl"
      }
    },
    {
      "cell_type": "code",
      "source": [
        "cleaned_emails = [clean(email) for email in emails]\n"
      ],
      "metadata": {
        "id": "-fuF3NR_7cN8"
      },
      "execution_count": 50,
      "outputs": []
    },
    {
      "cell_type": "markdown",
      "source": [
        "Création du corpus de textes à partir des e-mails nettoyés :"
      ],
      "metadata": {
        "id": "5zvigZwz7cGm"
      }
    },
    {
      "cell_type": "code",
      "source": [
        "corpus = cleaned_emails\n"
      ],
      "metadata": {
        "id": "Ayie48QA7b_J"
      },
      "execution_count": 51,
      "outputs": []
    },
    {
      "cell_type": "markdown",
      "source": [
        "Création de la matrice TF-IDF avec des n-grammes :"
      ],
      "metadata": {
        "id": "H6LpOu6X7b36"
      }
    },
    {
      "cell_type": "code",
      "source": [
        "vectorizer = TfidfVectorizer(ngram_range=(1, 2))\n",
        "X_tfidf = vectorizer.fit_transform(corpus).toarray()"
      ],
      "metadata": {
        "id": "f7VjCOgm7bts"
      },
      "execution_count": 52,
      "outputs": []
    },
    {
      "cell_type": "markdown",
      "source": [
        "Classification des e-mails avec l'algorithme K-means :"
      ],
      "metadata": {
        "id": "7PS7ugt37bk8"
      }
    },
    {
      "cell_type": "code",
      "source": [
        "kmeans = KMeans(n_clusters=2, random_state=42)\n",
        "kmeans.fit(X_tfidf)"
      ],
      "metadata": {
        "colab": {
          "base_uri": "https://localhost:8080/",
          "height": 129
        },
        "id": "lUP1hqcI7bcc",
        "outputId": "113cab0e-7e26-45d5-c4b5-ae67fa898002"
      },
      "execution_count": 53,
      "outputs": [
        {
          "output_type": "stream",
          "name": "stderr",
          "text": [
            "/usr/local/lib/python3.10/dist-packages/sklearn/cluster/_kmeans.py:870: FutureWarning: The default value of `n_init` will change from 10 to 'auto' in 1.4. Set the value of `n_init` explicitly to suppress the warning\n",
            "  warnings.warn(\n"
          ]
        },
        {
          "output_type": "execute_result",
          "data": {
            "text/plain": [
              "KMeans(n_clusters=2, random_state=42)"
            ],
            "text/html": [
              "<style>#sk-container-id-7 {color: black;background-color: white;}#sk-container-id-7 pre{padding: 0;}#sk-container-id-7 div.sk-toggleable {background-color: white;}#sk-container-id-7 label.sk-toggleable__label {cursor: pointer;display: block;width: 100%;margin-bottom: 0;padding: 0.3em;box-sizing: border-box;text-align: center;}#sk-container-id-7 label.sk-toggleable__label-arrow:before {content: \"▸\";float: left;margin-right: 0.25em;color: #696969;}#sk-container-id-7 label.sk-toggleable__label-arrow:hover:before {color: black;}#sk-container-id-7 div.sk-estimator:hover label.sk-toggleable__label-arrow:before {color: black;}#sk-container-id-7 div.sk-toggleable__content {max-height: 0;max-width: 0;overflow: hidden;text-align: left;background-color: #f0f8ff;}#sk-container-id-7 div.sk-toggleable__content pre {margin: 0.2em;color: black;border-radius: 0.25em;background-color: #f0f8ff;}#sk-container-id-7 input.sk-toggleable__control:checked~div.sk-toggleable__content {max-height: 200px;max-width: 100%;overflow: auto;}#sk-container-id-7 input.sk-toggleable__control:checked~label.sk-toggleable__label-arrow:before {content: \"▾\";}#sk-container-id-7 div.sk-estimator input.sk-toggleable__control:checked~label.sk-toggleable__label {background-color: #d4ebff;}#sk-container-id-7 div.sk-label input.sk-toggleable__control:checked~label.sk-toggleable__label {background-color: #d4ebff;}#sk-container-id-7 input.sk-hidden--visually {border: 0;clip: rect(1px 1px 1px 1px);clip: rect(1px, 1px, 1px, 1px);height: 1px;margin: -1px;overflow: hidden;padding: 0;position: absolute;width: 1px;}#sk-container-id-7 div.sk-estimator {font-family: monospace;background-color: #f0f8ff;border: 1px dotted black;border-radius: 0.25em;box-sizing: border-box;margin-bottom: 0.5em;}#sk-container-id-7 div.sk-estimator:hover {background-color: #d4ebff;}#sk-container-id-7 div.sk-parallel-item::after {content: \"\";width: 100%;border-bottom: 1px solid gray;flex-grow: 1;}#sk-container-id-7 div.sk-label:hover label.sk-toggleable__label {background-color: #d4ebff;}#sk-container-id-7 div.sk-serial::before {content: \"\";position: absolute;border-left: 1px solid gray;box-sizing: border-box;top: 0;bottom: 0;left: 50%;z-index: 0;}#sk-container-id-7 div.sk-serial {display: flex;flex-direction: column;align-items: center;background-color: white;padding-right: 0.2em;padding-left: 0.2em;position: relative;}#sk-container-id-7 div.sk-item {position: relative;z-index: 1;}#sk-container-id-7 div.sk-parallel {display: flex;align-items: stretch;justify-content: center;background-color: white;position: relative;}#sk-container-id-7 div.sk-item::before, #sk-container-id-7 div.sk-parallel-item::before {content: \"\";position: absolute;border-left: 1px solid gray;box-sizing: border-box;top: 0;bottom: 0;left: 50%;z-index: -1;}#sk-container-id-7 div.sk-parallel-item {display: flex;flex-direction: column;z-index: 1;position: relative;background-color: white;}#sk-container-id-7 div.sk-parallel-item:first-child::after {align-self: flex-end;width: 50%;}#sk-container-id-7 div.sk-parallel-item:last-child::after {align-self: flex-start;width: 50%;}#sk-container-id-7 div.sk-parallel-item:only-child::after {width: 0;}#sk-container-id-7 div.sk-dashed-wrapped {border: 1px dashed gray;margin: 0 0.4em 0.5em 0.4em;box-sizing: border-box;padding-bottom: 0.4em;background-color: white;}#sk-container-id-7 div.sk-label label {font-family: monospace;font-weight: bold;display: inline-block;line-height: 1.2em;}#sk-container-id-7 div.sk-label-container {text-align: center;}#sk-container-id-7 div.sk-container {/* jupyter's `normalize.less` sets `[hidden] { display: none; }` but bootstrap.min.css set `[hidden] { display: none !important; }` so we also need the `!important` here to be able to override the default hidden behavior on the sphinx rendered scikit-learn.org. See: https://github.com/scikit-learn/scikit-learn/issues/21755 */display: inline-block !important;position: relative;}#sk-container-id-7 div.sk-text-repr-fallback {display: none;}</style><div id=\"sk-container-id-7\" class=\"sk-top-container\"><div class=\"sk-text-repr-fallback\"><pre>KMeans(n_clusters=2, random_state=42)</pre><b>In a Jupyter environment, please rerun this cell to show the HTML representation or trust the notebook. <br />On GitHub, the HTML representation is unable to render, please try loading this page with nbviewer.org.</b></div><div class=\"sk-container\" hidden><div class=\"sk-item\"><div class=\"sk-estimator sk-toggleable\"><input class=\"sk-toggleable__control sk-hidden--visually\" id=\"sk-estimator-id-7\" type=\"checkbox\" checked><label for=\"sk-estimator-id-7\" class=\"sk-toggleable__label sk-toggleable__label-arrow\">KMeans</label><div class=\"sk-toggleable__content\"><pre>KMeans(n_clusters=2, random_state=42)</pre></div></div></div></div></div>"
            ]
          },
          "metadata": {},
          "execution_count": 53
        }
      ]
    },
    {
      "cell_type": "markdown",
      "source": [
        "Obtention des labels prédits par K-means :"
      ],
      "metadata": {
        "id": "rVMNmWAH7bUG"
      }
    },
    {
      "cell_type": "code",
      "source": [
        "labels = kmeans.labels_\n"
      ],
      "metadata": {
        "id": "XepxQAPf7bLO"
      },
      "execution_count": 54,
      "outputs": []
    },
    {
      "cell_type": "markdown",
      "source": [
        "#Prédiction d'un nouveau message :"
      ],
      "metadata": {
        "id": "l8DTRLmA7bC6"
      }
    },
    {
      "cell_type": "code",
      "source": [
        "new_message = \"Gagnez de l'argent en ligne facilement !\"\n",
        "cleaned_new_message = clean(new_message)\n",
        "new_message_tfidf = vectorizer.transform([cleaned_new_message]).toarray()\n"
      ],
      "metadata": {
        "id": "fZhdn8Vu7a51"
      },
      "execution_count": 55,
      "outputs": []
    },
    {
      "cell_type": "markdown",
      "source": [
        "#Prédiction avec K-means\n"
      ],
      "metadata": {
        "id": "j0zJ8Q2W7aww"
      }
    },
    {
      "cell_type": "code",
      "source": [
        "\n",
        "new_message_label_kmeans = kmeans.predict(new_message_tfidf)[0]"
      ],
      "metadata": {
        "id": "1HRRiD827anS"
      },
      "execution_count": 56,
      "outputs": []
    },
    {
      "cell_type": "markdown",
      "source": [
        "Classification des e-mails avec SVM"
      ],
      "metadata": {
        "id": "yQAV_dWo-O6_"
      }
    },
    {
      "cell_type": "code",
      "source": [
        "svm = SVC()\n",
        "svm.fit(X_tfidf, labels)"
      ],
      "metadata": {
        "colab": {
          "base_uri": "https://localhost:8080/",
          "height": 74
        },
        "id": "Nb3ZT-ov-MG0",
        "outputId": "3ec2b91e-06a3-4201-879f-eb30e082f970"
      },
      "execution_count": 57,
      "outputs": [
        {
          "output_type": "execute_result",
          "data": {
            "text/plain": [
              "SVC()"
            ],
            "text/html": [
              "<style>#sk-container-id-8 {color: black;background-color: white;}#sk-container-id-8 pre{padding: 0;}#sk-container-id-8 div.sk-toggleable {background-color: white;}#sk-container-id-8 label.sk-toggleable__label {cursor: pointer;display: block;width: 100%;margin-bottom: 0;padding: 0.3em;box-sizing: border-box;text-align: center;}#sk-container-id-8 label.sk-toggleable__label-arrow:before {content: \"▸\";float: left;margin-right: 0.25em;color: #696969;}#sk-container-id-8 label.sk-toggleable__label-arrow:hover:before {color: black;}#sk-container-id-8 div.sk-estimator:hover label.sk-toggleable__label-arrow:before {color: black;}#sk-container-id-8 div.sk-toggleable__content {max-height: 0;max-width: 0;overflow: hidden;text-align: left;background-color: #f0f8ff;}#sk-container-id-8 div.sk-toggleable__content pre {margin: 0.2em;color: black;border-radius: 0.25em;background-color: #f0f8ff;}#sk-container-id-8 input.sk-toggleable__control:checked~div.sk-toggleable__content {max-height: 200px;max-width: 100%;overflow: auto;}#sk-container-id-8 input.sk-toggleable__control:checked~label.sk-toggleable__label-arrow:before {content: \"▾\";}#sk-container-id-8 div.sk-estimator input.sk-toggleable__control:checked~label.sk-toggleable__label {background-color: #d4ebff;}#sk-container-id-8 div.sk-label input.sk-toggleable__control:checked~label.sk-toggleable__label {background-color: #d4ebff;}#sk-container-id-8 input.sk-hidden--visually {border: 0;clip: rect(1px 1px 1px 1px);clip: rect(1px, 1px, 1px, 1px);height: 1px;margin: -1px;overflow: hidden;padding: 0;position: absolute;width: 1px;}#sk-container-id-8 div.sk-estimator {font-family: monospace;background-color: #f0f8ff;border: 1px dotted black;border-radius: 0.25em;box-sizing: border-box;margin-bottom: 0.5em;}#sk-container-id-8 div.sk-estimator:hover {background-color: #d4ebff;}#sk-container-id-8 div.sk-parallel-item::after {content: \"\";width: 100%;border-bottom: 1px solid gray;flex-grow: 1;}#sk-container-id-8 div.sk-label:hover label.sk-toggleable__label {background-color: #d4ebff;}#sk-container-id-8 div.sk-serial::before {content: \"\";position: absolute;border-left: 1px solid gray;box-sizing: border-box;top: 0;bottom: 0;left: 50%;z-index: 0;}#sk-container-id-8 div.sk-serial {display: flex;flex-direction: column;align-items: center;background-color: white;padding-right: 0.2em;padding-left: 0.2em;position: relative;}#sk-container-id-8 div.sk-item {position: relative;z-index: 1;}#sk-container-id-8 div.sk-parallel {display: flex;align-items: stretch;justify-content: center;background-color: white;position: relative;}#sk-container-id-8 div.sk-item::before, #sk-container-id-8 div.sk-parallel-item::before {content: \"\";position: absolute;border-left: 1px solid gray;box-sizing: border-box;top: 0;bottom: 0;left: 50%;z-index: -1;}#sk-container-id-8 div.sk-parallel-item {display: flex;flex-direction: column;z-index: 1;position: relative;background-color: white;}#sk-container-id-8 div.sk-parallel-item:first-child::after {align-self: flex-end;width: 50%;}#sk-container-id-8 div.sk-parallel-item:last-child::after {align-self: flex-start;width: 50%;}#sk-container-id-8 div.sk-parallel-item:only-child::after {width: 0;}#sk-container-id-8 div.sk-dashed-wrapped {border: 1px dashed gray;margin: 0 0.4em 0.5em 0.4em;box-sizing: border-box;padding-bottom: 0.4em;background-color: white;}#sk-container-id-8 div.sk-label label {font-family: monospace;font-weight: bold;display: inline-block;line-height: 1.2em;}#sk-container-id-8 div.sk-label-container {text-align: center;}#sk-container-id-8 div.sk-container {/* jupyter's `normalize.less` sets `[hidden] { display: none; }` but bootstrap.min.css set `[hidden] { display: none !important; }` so we also need the `!important` here to be able to override the default hidden behavior on the sphinx rendered scikit-learn.org. See: https://github.com/scikit-learn/scikit-learn/issues/21755 */display: inline-block !important;position: relative;}#sk-container-id-8 div.sk-text-repr-fallback {display: none;}</style><div id=\"sk-container-id-8\" class=\"sk-top-container\"><div class=\"sk-text-repr-fallback\"><pre>SVC()</pre><b>In a Jupyter environment, please rerun this cell to show the HTML representation or trust the notebook. <br />On GitHub, the HTML representation is unable to render, please try loading this page with nbviewer.org.</b></div><div class=\"sk-container\" hidden><div class=\"sk-item\"><div class=\"sk-estimator sk-toggleable\"><input class=\"sk-toggleable__control sk-hidden--visually\" id=\"sk-estimator-id-8\" type=\"checkbox\" checked><label for=\"sk-estimator-id-8\" class=\"sk-toggleable__label sk-toggleable__label-arrow\">SVC</label><div class=\"sk-toggleable__content\"><pre>SVC()</pre></div></div></div></div></div>"
            ]
          },
          "metadata": {},
          "execution_count": 57
        }
      ]
    },
    {
      "cell_type": "markdown",
      "source": [
        "#Prédiction avec SVM"
      ],
      "metadata": {
        "id": "V0m0B6i49EK-"
      }
    },
    {
      "cell_type": "code",
      "source": [
        "new_message_label_svm = svm.predict(new_message_tfidf)[0]"
      ],
      "metadata": {
        "id": "e4C4exeF9EBG"
      },
      "execution_count": 58,
      "outputs": []
    },
    {
      "cell_type": "markdown",
      "source": [
        "Affichage des résultats"
      ],
      "metadata": {
        "id": "vr0L5rrT9D36"
      }
    },
    {
      "cell_type": "code",
      "source": [
        "\n",
        "print(f\"Le nouveau message '{new_message}' est classé comme {'spam' if new_message_label_kmeans == 1 else 'non-spam'} par K-means.\")\n",
        "print(f\"Le nouveau message '{new_message}' est classé comme {'spam' if new_message_label_svm == 1 else 'non-spam'} par SVM.\")"
      ],
      "metadata": {
        "colab": {
          "base_uri": "https://localhost:8080/"
        },
        "id": "WsYfQDeO9Duv",
        "outputId": "aa4d7882-4d15-4592-d45a-2f183b0c48cd"
      },
      "execution_count": 59,
      "outputs": [
        {
          "output_type": "stream",
          "name": "stdout",
          "text": [
            "Le nouveau message 'Gagnez de l'argent en ligne facilement !' est classé comme non-spam par K-means.\n",
            "Le nouveau message 'Gagnez de l'argent en ligne facilement !' est classé comme non-spam par SVM.\n"
          ]
        }
      ]
    }
  ]
}